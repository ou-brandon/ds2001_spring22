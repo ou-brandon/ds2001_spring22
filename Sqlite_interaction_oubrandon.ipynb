{
 "cells": [
  {
   "cell_type": "code",
   "execution_count": null,
   "id": "1e06eaa2",
   "metadata": {},
   "outputs": [],
   "source": []
  },
  {
   "cell_type": "code",
   "execution_count": 121,
   "id": "f330be8e",
   "metadata": {},
   "outputs": [],
   "source": [
    "import sqlite3"
   ]
  },
  {
   "cell_type": "code",
   "execution_count": 111,
   "id": "3f5800ae",
   "metadata": {},
   "outputs": [],
   "source": [
    "# 2 - Table stores the January and February total rainfall in inches\n",
    "data = [\n",
    "    \n",
    "    ('New York City', 11, 12),\n",
    "    ('Los Angeles', 10, 8),\n",
    "    ('Washington DC', 13, 14),\n",
    "    ('Richmond', 15, 18),\n",
    "    ('Anapolis', 14, 16),\n",
    "]"
   ]
  },
  {
   "cell_type": "code",
   "execution_count": 112,
   "id": "380fcd2f",
   "metadata": {},
   "outputs": [],
   "source": [
    "path_to_db = \"C:/Users/oubra/anaconda3/Lib/site-packages/sqlalchemy/dialects/sqlite/mydata.db\"\n",
    "conn = sqlite3.connect(path_to_db)\n",
    "cur = conn.cursor()"
   ]
  },
  {
   "cell_type": "code",
   "execution_count": 113,
   "id": "5e4c52df",
   "metadata": {},
   "outputs": [],
   "source": [
    "# 3\n",
    "cur.execute('create table mytable (City, Jan rainfall, Feb rainfall)')\n",
    "conn.commit()"
   ]
  },
  {
   "cell_type": "code",
   "execution_count": 116,
   "id": "844ad122",
   "metadata": {},
   "outputs": [],
   "source": [
    "# 4\n",
    "cur.executemany('insert into mytable values (?,?,?)', data)\n",
    "conn.commit()"
   ]
  },
  {
   "cell_type": "code",
   "execution_count": 117,
   "id": "484bf880",
   "metadata": {
    "scrolled": true
   },
   "outputs": [
    {
     "name": "stdout",
     "output_type": "stream",
     "text": [
      "('New York City', 11, 12)\n",
      "('Los Angeles', 10, 8)\n",
      "('Washington DC', 13, 14)\n",
      "('Richmond', 15, 18)\n",
      "('Anapolis', 14, 16)\n"
     ]
    }
   ],
   "source": [
    "# 5\n",
    "for row in cur.execute('select * from mytable'):\n",
    "    print(row)"
   ]
  },
  {
   "cell_type": "code",
   "execution_count": 118,
   "id": "14adeae2",
   "metadata": {
    "scrolled": true
   },
   "outputs": [
    {
     "name": "stdout",
     "output_type": "stream",
     "text": [
      "('Richmond', 15, 18)\n",
      "('Anapolis', 14, 16)\n"
     ]
    }
   ],
   "source": [
    "# 6\n",
    "for row in cur.execute('select * from mytable where Feb >= 16'):\n",
    "    print(row)"
   ]
  },
  {
   "cell_type": "code",
   "execution_count": 127,
   "id": "118413e9",
   "metadata": {
    "scrolled": false
   },
   "outputs": [
    {
     "name": "stdout",
     "output_type": "stream",
     "text": [
      "('Anapolis', 30)\n",
      "('Los Angeles', 18)\n",
      "('New York City', 23)\n",
      "('Richmond', 33)\n",
      "('Washington DC', 27)\n"
     ]
    }
   ],
   "source": [
    "# 7\n",
    "\n",
    "# Calculates total rainfall in January and February\n",
    "for row in cur.execute('select City, (Jan + Feb) from mytable GROUP BY City'):\n",
    "    print(row)"
   ]
  },
  {
   "cell_type": "code",
   "execution_count": 128,
   "id": "185fe36d",
   "metadata": {},
   "outputs": [
    {
     "data": {
      "text/html": [
       "<div>\n",
       "<style scoped>\n",
       "    .dataframe tbody tr th:only-of-type {\n",
       "        vertical-align: middle;\n",
       "    }\n",
       "\n",
       "    .dataframe tbody tr th {\n",
       "        vertical-align: top;\n",
       "    }\n",
       "\n",
       "    .dataframe thead th {\n",
       "        text-align: right;\n",
       "    }\n",
       "</style>\n",
       "<table border=\"1\" class=\"dataframe\">\n",
       "  <thead>\n",
       "    <tr style=\"text-align: right;\">\n",
       "      <th></th>\n",
       "      <th>City</th>\n",
       "      <th>Jan</th>\n",
       "      <th>Feb</th>\n",
       "    </tr>\n",
       "  </thead>\n",
       "  <tbody>\n",
       "    <tr>\n",
       "      <th>0</th>\n",
       "      <td>Anapolis</td>\n",
       "      <td>14</td>\n",
       "      <td>16</td>\n",
       "    </tr>\n",
       "    <tr>\n",
       "      <th>1</th>\n",
       "      <td>Los Angeles</td>\n",
       "      <td>10</td>\n",
       "      <td>8</td>\n",
       "    </tr>\n",
       "    <tr>\n",
       "      <th>2</th>\n",
       "      <td>New York City</td>\n",
       "      <td>11</td>\n",
       "      <td>12</td>\n",
       "    </tr>\n",
       "    <tr>\n",
       "      <th>3</th>\n",
       "      <td>Richmond</td>\n",
       "      <td>15</td>\n",
       "      <td>18</td>\n",
       "    </tr>\n",
       "    <tr>\n",
       "      <th>4</th>\n",
       "      <td>Washington DC</td>\n",
       "      <td>13</td>\n",
       "      <td>14</td>\n",
       "    </tr>\n",
       "  </tbody>\n",
       "</table>\n",
       "</div>"
      ],
      "text/plain": [
       "            City  Jan  Feb\n",
       "0       Anapolis   14   16\n",
       "1    Los Angeles   10    8\n",
       "2  New York City   11   12\n",
       "3       Richmond   15   18\n",
       "4  Washington DC   13   14"
      ]
     },
     "execution_count": 128,
     "metadata": {},
     "output_type": "execute_result"
    }
   ],
   "source": [
    "# 8\n",
    "\n",
    "# https://pandas.pydata.org/pandas-docs/stable/user_guide/io.html#reading-tables\n",
    "import pandas as pd\n",
    "\n",
    "df = pd.read_sql_query(\"select City, Jan, Feb from mytable GROUP BY City\", conn)\n",
    "df.head(5)"
   ]
  }
 ],
 "metadata": {
  "kernelspec": {
   "display_name": "Python 3 (ipykernel)",
   "language": "python",
   "name": "python3"
  },
  "language_info": {
   "codemirror_mode": {
    "name": "ipython",
    "version": 3
   },
   "file_extension": ".py",
   "mimetype": "text/x-python",
   "name": "python",
   "nbconvert_exporter": "python",
   "pygments_lexer": "ipython3",
   "version": "3.9.7"
  }
 },
 "nbformat": 4,
 "nbformat_minor": 5
}
