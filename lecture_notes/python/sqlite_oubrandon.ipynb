{
 "cells": [
  {
   "cell_type": "code",
   "execution_count": 1,
   "id": "bd8699c0",
   "metadata": {},
   "outputs": [
    {
     "ename": "OperationalError",
     "evalue": "unable to open database file",
     "output_type": "error",
     "traceback": [
      "\u001b[1;31m---------------------------------------------------------------------------\u001b[0m",
      "\u001b[1;31mOperationalError\u001b[0m                          Traceback (most recent call last)",
      "\u001b[1;32m~\\AppData\\Local\\Temp/ipykernel_13884/311244816.py\u001b[0m in \u001b[0;36m<module>\u001b[1;34m\u001b[0m\n\u001b[0;32m     15\u001b[0m \u001b[1;33m\u001b[0m\u001b[0m\n\u001b[0;32m     16\u001b[0m \u001b[1;31m# create db connection\u001b[0m\u001b[1;33m\u001b[0m\u001b[1;33m\u001b[0m\u001b[0m\n\u001b[1;32m---> 17\u001b[1;33m \u001b[0mconn\u001b[0m \u001b[1;33m=\u001b[0m \u001b[0msqlite3\u001b[0m\u001b[1;33m.\u001b[0m\u001b[0mconnect\u001b[0m\u001b[1;33m(\u001b[0m\u001b[0mpath_to_db\u001b[0m\u001b[1;33m)\u001b[0m\u001b[1;33m\u001b[0m\u001b[1;33m\u001b[0m\u001b[0m\n\u001b[0m\u001b[0;32m     18\u001b[0m \u001b[1;33m\u001b[0m\u001b[0m\n\u001b[0;32m     19\u001b[0m \u001b[1;31m# create cursor\u001b[0m\u001b[1;33m\u001b[0m\u001b[1;33m\u001b[0m\u001b[0m\n",
      "\u001b[1;31mOperationalError\u001b[0m: unable to open database file"
     ]
    }
   ],
   "source": [
    "\n",
    "# python\n",
    "import sqlite3\n",
    "\n",
    "# create some data\n",
    "stocks = [\n",
    "        ('NVDA',219,-3.42),\n",
    "        ('AAPL',146,-2.73),\n",
    "        ('GOOG',2829.27,-58.20)]\n",
    "\n",
    "\n",
    "# connect to db\n",
    "\n",
    "# update with your path to the database\n",
    "path_to_db = \"C:\\Users\\oubra\\anaconda3\\Lib\\site-packages\\sqlalchemy\\dialects\\sqlite\\stocks.db\"    \n",
    "\n",
    "# create db connection\n",
    "conn = sqlite3.connect(path_to_db)\n",
    "\n",
    "# create cursor\n",
    "cur = conn.cursor()\n",
    "\n",
    "# create a table in the db called \"holdings\" and pass a schema\n",
    "# end the transaction with a commit\n",
    "cur.execute('create table holdings (ticker text, price real, chg real)')\n",
    "conn.commit()\n",
    "\n",
    "# insert multiple records of data with executemany()\n",
    "cur.executemany('insert into holdings values (?,?,?)', stocks)\n",
    "conn.commit()\n",
    "\n",
    "# query the table\n",
    "# print all the rows\n",
    "for row in conn.execute('select * from holdings'):\n",
    "    print(row)\n",
    "\n",
    "# print all the rows where price > 200\n",
    "for row in conn.execute('select * from holdings where price > 200'):\n",
    "    print(row)\n",
    "\n",
    "# print all the rows where price > 200. show only ticker, price\n",
    "for row in conn.execute('select ticker, price from holdings where price > 200'):\n",
    "    print(row)\n",
    "\n",
    "# save the resultant dataset in a list\n",
    "data = []\n",
    "for row in conn.execute('select ticker, price from holdings where price > 200'):\n",
    "    data.append(row)\n",
    "\n",
    "# TRY FOR YOURSELF \n",
    "# Create a dataframe with columns: ticker, price.\n",
    "# Load all of the data into the dataframe\n",
    "\n"
   ]
  }
 ],
 "metadata": {
  "kernelspec": {
   "display_name": "Python 3 (ipykernel)",
   "language": "python",
   "name": "python3"
  },
  "language_info": {
   "codemirror_mode": {
    "name": "ipython",
    "version": 3
   },
   "file_extension": ".py",
   "mimetype": "text/x-python",
   "name": "python",
   "nbconvert_exporter": "python",
   "pygments_lexer": "ipython3",
   "version": "3.9.7"
  }
 },
 "nbformat": 4,
 "nbformat_minor": 5
}
