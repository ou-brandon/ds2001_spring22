{
 "cells": [
  {
   "cell_type": "markdown",
   "metadata": {},
   "source": [
    "## Pandas DataFrames II\n",
    "\n",
    "\n",
    "### University of Virginia\n",
    "### Programming for Data Science\n",
    "### Last Updated: September 21, 2021\n",
    "---  \n",
    "\n",
    "\n",
    "### PREREQUISITES\n",
    "- variables\n",
    "- data types\n",
    "- operators\n",
    "- list comprehensions (not essential)\n",
    "- numpy arrays (not essential)\n",
    "- pandas DataFrames I\n",
    "\n",
    "\n",
    "### SOURCES \n",
    "- ten minutes to pandas  \n",
    "https://pandas.pydata.org/pandas-docs/stable/user_guide/10min.html\n",
    "\n",
    "\n",
    "- pivot_table()  \n",
    "https://pandas.pydata.org/pandas-docs/stable/reference/api/pandas.pivot_table.html\n",
    "\n",
    "\n",
    "- concat()  \n",
    "https://pandas.pydata.org/pandas-docs/stable/reference/api/pandas.concat.html\n",
    "\n",
    "\n",
    "- merge()  \n",
    "https://pandas.pydata.org/pandas-docs/stable/reference/api/pandas.DataFrame.merge.html\n",
    "\n",
    "\n",
    "- get_dummies()  \n",
    "https://pandas.pydata.org/pandas-docs/stable/reference/api/pandas.get_dummies.html\n",
    "\n",
    "\n",
    "\n",
    "### OBJECTIVES\n",
    "- Introduce more advanced pandas dataframe operations for data munging\n",
    " \n",
    "\n",
    "\n",
    "### CONCEPTS\n",
    "\n",
    "- DataFrame\n",
    "- apply()\n",
    "- aggregation using split-apply-combine\n",
    "- pivot_table()\n",
    "- groupby()\n",
    "- concat()\n",
    "- merging/joining dataframes with merge(), concat()\n",
    "- reshaping data\n",
    "- dummy coding categorical data\n",
    "\n",
    "\n",
    "---\n",
    "\n",
    "## Additional Pandas DataFrame Functionality\n",
    "\n",
    "Pandas DataFrames I covered creating, modifying, and subsetting DataFrames, among other topics.  \n",
    "These notes will demonstrate further methods for data munging and analysis."
   ]
  },
  {
   "cell_type": "code",
   "execution_count": 9,
   "metadata": {},
   "outputs": [],
   "source": [
    "import numpy as np\n",
    "import pandas as pd\n",
    "import sys"
   ]
  },
  {
   "cell_type": "markdown",
   "metadata": {},
   "source": [
    "#### Load Iris"
   ]
  },
  {
   "cell_type": "code",
   "execution_count": 6,
   "metadata": {},
   "outputs": [],
   "source": [
    "import seaborn as sns\n",
    "\n",
    "iris = sns.load_dataset('iris')"
   ]
  },
  {
   "cell_type": "code",
   "execution_count": 7,
   "metadata": {},
   "outputs": [
    {
     "data": {
      "text/html": [
       "<div>\n",
       "<style scoped>\n",
       "    .dataframe tbody tr th:only-of-type {\n",
       "        vertical-align: middle;\n",
       "    }\n",
       "\n",
       "    .dataframe tbody tr th {\n",
       "        vertical-align: top;\n",
       "    }\n",
       "\n",
       "    .dataframe thead th {\n",
       "        text-align: right;\n",
       "    }\n",
       "</style>\n",
       "<table border=\"1\" class=\"dataframe\">\n",
       "  <thead>\n",
       "    <tr style=\"text-align: right;\">\n",
       "      <th></th>\n",
       "      <th>sepal_length</th>\n",
       "      <th>sepal_width</th>\n",
       "      <th>petal_length</th>\n",
       "      <th>petal_width</th>\n",
       "      <th>species</th>\n",
       "    </tr>\n",
       "  </thead>\n",
       "  <tbody>\n",
       "    <tr>\n",
       "      <th>0</th>\n",
       "      <td>5.1</td>\n",
       "      <td>3.5</td>\n",
       "      <td>1.4</td>\n",
       "      <td>0.2</td>\n",
       "      <td>setosa</td>\n",
       "    </tr>\n",
       "    <tr>\n",
       "      <th>1</th>\n",
       "      <td>4.9</td>\n",
       "      <td>3.0</td>\n",
       "      <td>1.4</td>\n",
       "      <td>0.2</td>\n",
       "      <td>setosa</td>\n",
       "    </tr>\n",
       "  </tbody>\n",
       "</table>\n",
       "</div>"
      ],
      "text/plain": [
       "   sepal_length  sepal_width  petal_length  petal_width species\n",
       "0           5.1          3.5           1.4          0.2  setosa\n",
       "1           4.9          3.0           1.4          0.2  setosa"
      ]
     },
     "execution_count": 7,
     "metadata": {},
     "output_type": "execute_result"
    }
   ],
   "source": [
    "iris.head(2)"
   ]
  },
  {
   "cell_type": "code",
   "execution_count": 10,
   "metadata": {},
   "outputs": [
    {
     "data": {
      "text/plain": [
       "14744"
      ]
     },
     "execution_count": 10,
     "metadata": {},
     "output_type": "execute_result"
    }
   ],
   "source": [
    "sys.getsizeof(iris)"
   ]
  },
  {
   "cell_type": "markdown",
   "metadata": {},
   "source": [
    "## I. `apply()`\n",
    "\n",
    "Apply a transformation to each record. Uses a `lambda` function."
   ]
  },
  {
   "cell_type": "code",
   "execution_count": 11,
   "metadata": {},
   "outputs": [
    {
     "data": {
      "text/html": [
       "<div>\n",
       "<style scoped>\n",
       "    .dataframe tbody tr th:only-of-type {\n",
       "        vertical-align: middle;\n",
       "    }\n",
       "\n",
       "    .dataframe tbody tr th {\n",
       "        vertical-align: top;\n",
       "    }\n",
       "\n",
       "    .dataframe thead th {\n",
       "        text-align: right;\n",
       "    }\n",
       "</style>\n",
       "<table border=\"1\" class=\"dataframe\">\n",
       "  <thead>\n",
       "    <tr style=\"text-align: right;\">\n",
       "      <th></th>\n",
       "      <th>sepal_length</th>\n",
       "      <th>sepal_width</th>\n",
       "      <th>petal_length</th>\n",
       "      <th>petal_width</th>\n",
       "      <th>species</th>\n",
       "      <th>sepal_len_sq</th>\n",
       "    </tr>\n",
       "  </thead>\n",
       "  <tbody>\n",
       "    <tr>\n",
       "      <th>0</th>\n",
       "      <td>5.1</td>\n",
       "      <td>3.5</td>\n",
       "      <td>1.4</td>\n",
       "      <td>0.2</td>\n",
       "      <td>setosa</td>\n",
       "      <td>26.01</td>\n",
       "    </tr>\n",
       "    <tr>\n",
       "      <th>1</th>\n",
       "      <td>4.9</td>\n",
       "      <td>3.0</td>\n",
       "      <td>1.4</td>\n",
       "      <td>0.2</td>\n",
       "      <td>setosa</td>\n",
       "      <td>24.01</td>\n",
       "    </tr>\n",
       "    <tr>\n",
       "      <th>2</th>\n",
       "      <td>4.7</td>\n",
       "      <td>3.2</td>\n",
       "      <td>1.3</td>\n",
       "      <td>0.2</td>\n",
       "      <td>setosa</td>\n",
       "      <td>22.09</td>\n",
       "    </tr>\n",
       "    <tr>\n",
       "      <th>3</th>\n",
       "      <td>4.6</td>\n",
       "      <td>3.1</td>\n",
       "      <td>1.5</td>\n",
       "      <td>0.2</td>\n",
       "      <td>setosa</td>\n",
       "      <td>21.16</td>\n",
       "    </tr>\n",
       "    <tr>\n",
       "      <th>4</th>\n",
       "      <td>5.0</td>\n",
       "      <td>3.6</td>\n",
       "      <td>1.4</td>\n",
       "      <td>0.2</td>\n",
       "      <td>setosa</td>\n",
       "      <td>25.00</td>\n",
       "    </tr>\n",
       "  </tbody>\n",
       "</table>\n",
       "</div>"
      ],
      "text/plain": [
       "   sepal_length  sepal_width  petal_length  petal_width species  sepal_len_sq\n",
       "0           5.1          3.5           1.4          0.2  setosa         26.01\n",
       "1           4.9          3.0           1.4          0.2  setosa         24.01\n",
       "2           4.7          3.2           1.3          0.2  setosa         22.09\n",
       "3           4.6          3.1           1.5          0.2  setosa         21.16\n",
       "4           5.0          3.6           1.4          0.2  setosa         25.00"
      ]
     },
     "execution_count": 11,
     "metadata": {},
     "output_type": "execute_result"
    }
   ],
   "source": [
    "iris['sepal_len_sq'] = iris.sepal_length.apply(lambda x: x**2)\n",
    "iris.head(5)"
   ]
  },
  {
   "cell_type": "markdown",
   "metadata": {},
   "source": [
    "Transformation involving multiple columns. Uses `axis=1` to access columns.  \n",
    "Compute average of `sepal_length`, `sepal_width`:"
   ]
  },
  {
   "cell_type": "code",
   "execution_count": null,
   "metadata": {},
   "outputs": [],
   "source": [
    "iris['sepal_len_wid_avg'] = iris[['sepal_length','sepal_width']].apply(lambda x: (x.sepal_length+x.sepal_width)/2, axis=1)\n",
    "iris.head()"
   ]
  },
  {
   "cell_type": "markdown",
   "metadata": {},
   "source": [
    "### TRY FOR YOURSELF (UNGRADED EXERCISES)"
   ]
  },
  {
   "cell_type": "markdown",
   "metadata": {},
   "source": [
    "1) Use `apply()` to append a new column that is the minimum of (petal_length, petal_width)\n",
    "\n",
    "Print the head, tail of the new dataframe to check things look correct."
   ]
  },
  {
   "cell_type": "code",
   "execution_count": null,
   "metadata": {},
   "outputs": [],
   "source": []
  },
  {
   "cell_type": "code",
   "execution_count": 16,
   "metadata": {
    "jupyter": {
     "source_hidden": true
    }
   },
   "outputs": [
    {
     "name": "stdout",
     "output_type": "stream",
     "text": [
      "   sepal_length  sepal_width  petal_length  petal_width species  sepal_len_sq  \\\n",
      "0           5.1          3.5           1.4          0.2  setosa         26.01   \n",
      "1           4.9          3.0           1.4          0.2  setosa         24.01   \n",
      "2           4.7          3.2           1.3          0.2  setosa         22.09   \n",
      "3           4.6          3.1           1.5          0.2  setosa         21.16   \n",
      "4           5.0          3.6           1.4          0.2  setosa         25.00   \n",
      "\n",
      "   min_petal  min  \n",
      "0        0.2  0.2  \n",
      "1        0.2  0.2  \n",
      "2        0.2  0.2  \n",
      "3        0.2  0.2  \n",
      "4        0.2  0.2  \n",
      "     sepal_length  sepal_width  petal_length  petal_width    species  \\\n",
      "145           6.7          3.0           5.2          2.3  virginica   \n",
      "146           6.3          2.5           5.0          1.9  virginica   \n",
      "147           6.5          3.0           5.2          2.0  virginica   \n",
      "148           6.2          3.4           5.4          2.3  virginica   \n",
      "149           5.9          3.0           5.1          1.8  virginica   \n",
      "\n",
      "     sepal_len_sq  min_petal  min  \n",
      "145         44.89        2.3  2.3  \n",
      "146         39.69        1.9  1.9  \n",
      "147         42.25        2.0  2.0  \n",
      "148         38.44        2.3  2.3  \n",
      "149         34.81        1.8  1.8  \n"
     ]
    }
   ],
   "source": [
    "iris['min_petal']=iris[['petal_length','petal_width']].apply(lambda x: min(x.petal_length, x.petal_width), axis=1)\n",
    "print(iris.head())\n",
    "print(iris.tail())"
   ]
  },
  {
   "cell_type": "markdown",
   "metadata": {},
   "source": [
    "## II. Aggregation\n",
    "\n",
    "Involves one or more of:\n",
    "\n",
    "- splitting the data into groups\n",
    "- applying a function to each group\n",
    "- combining results"
   ]
  },
  {
   "cell_type": "markdown",
   "metadata": {},
   "source": [
    "### `groupby()`\n",
    "\n",
    "Compute mean of each column, grouped (separately) by species"
   ]
  },
  {
   "cell_type": "code",
   "execution_count": 23,
   "metadata": {},
   "outputs": [
    {
     "data": {
      "text/html": [
       "<div>\n",
       "<style scoped>\n",
       "    .dataframe tbody tr th:only-of-type {\n",
       "        vertical-align: middle;\n",
       "    }\n",
       "\n",
       "    .dataframe tbody tr th {\n",
       "        vertical-align: top;\n",
       "    }\n",
       "\n",
       "    .dataframe thead th {\n",
       "        text-align: right;\n",
       "    }\n",
       "</style>\n",
       "<table border=\"1\" class=\"dataframe\">\n",
       "  <thead>\n",
       "    <tr style=\"text-align: right;\">\n",
       "      <th></th>\n",
       "      <th>sepal_length</th>\n",
       "      <th>sepal_width</th>\n",
       "      <th>petal_length</th>\n",
       "      <th>petal_width</th>\n",
       "      <th>sepal_len_sq</th>\n",
       "      <th>min_petal</th>\n",
       "      <th>min</th>\n",
       "    </tr>\n",
       "    <tr>\n",
       "      <th>species</th>\n",
       "      <th></th>\n",
       "      <th></th>\n",
       "      <th></th>\n",
       "      <th></th>\n",
       "      <th></th>\n",
       "      <th></th>\n",
       "      <th></th>\n",
       "    </tr>\n",
       "  </thead>\n",
       "  <tbody>\n",
       "    <tr>\n",
       "      <th>setosa</th>\n",
       "      <td>5.006</td>\n",
       "      <td>3.428</td>\n",
       "      <td>1.462</td>\n",
       "      <td>0.246</td>\n",
       "      <td>25.1818</td>\n",
       "      <td>0.246</td>\n",
       "      <td>0.246</td>\n",
       "    </tr>\n",
       "    <tr>\n",
       "      <th>versicolor</th>\n",
       "      <td>5.936</td>\n",
       "      <td>2.770</td>\n",
       "      <td>4.260</td>\n",
       "      <td>1.326</td>\n",
       "      <td>35.4972</td>\n",
       "      <td>1.326</td>\n",
       "      <td>1.326</td>\n",
       "    </tr>\n",
       "    <tr>\n",
       "      <th>virginica</th>\n",
       "      <td>6.588</td>\n",
       "      <td>2.974</td>\n",
       "      <td>5.552</td>\n",
       "      <td>2.026</td>\n",
       "      <td>43.7980</td>\n",
       "      <td>2.026</td>\n",
       "      <td>2.026</td>\n",
       "    </tr>\n",
       "  </tbody>\n",
       "</table>\n",
       "</div>"
      ],
      "text/plain": [
       "            sepal_length  sepal_width  petal_length  petal_width  \\\n",
       "species                                                            \n",
       "setosa             5.006        3.428         1.462        0.246   \n",
       "versicolor         5.936        2.770         4.260        1.326   \n",
       "virginica          6.588        2.974         5.552        2.026   \n",
       "\n",
       "            sepal_len_sq  min_petal    min  \n",
       "species                                     \n",
       "setosa           25.1818      0.246  0.246  \n",
       "versicolor       35.4972      1.326  1.326  \n",
       "virginica        43.7980      2.026  2.026  "
      ]
     },
     "execution_count": 23,
     "metadata": {},
     "output_type": "execute_result"
    }
   ],
   "source": [
    "iris.groupby(\"species\").mean()"
   ]
  },
  {
   "cell_type": "markdown",
   "metadata": {},
   "source": [
    "### `pivot_table()`\n",
    "\n",
    "Apply a function `aggfunc` to selected values grouped by columns\n",
    "\n",
    "[Details](https://pandas.pydata.org/pandas-docs/stable/reference/api/pandas.pivot_table.html)"
   ]
  },
  {
   "cell_type": "markdown",
   "metadata": {},
   "source": [
    "Compute mean sepal length for each species:"
   ]
  },
  {
   "cell_type": "code",
   "execution_count": 18,
   "metadata": {},
   "outputs": [
    {
     "data": {
      "text/html": [
       "<div>\n",
       "<style scoped>\n",
       "    .dataframe tbody tr th:only-of-type {\n",
       "        vertical-align: middle;\n",
       "    }\n",
       "\n",
       "    .dataframe tbody tr th {\n",
       "        vertical-align: top;\n",
       "    }\n",
       "\n",
       "    .dataframe thead th {\n",
       "        text-align: right;\n",
       "    }\n",
       "</style>\n",
       "<table border=\"1\" class=\"dataframe\">\n",
       "  <thead>\n",
       "    <tr style=\"text-align: right;\">\n",
       "      <th>species</th>\n",
       "      <th>setosa</th>\n",
       "      <th>versicolor</th>\n",
       "      <th>virginica</th>\n",
       "    </tr>\n",
       "  </thead>\n",
       "  <tbody>\n",
       "    <tr>\n",
       "      <th>sepal_length</th>\n",
       "      <td>5.006</td>\n",
       "      <td>5.936</td>\n",
       "      <td>6.588</td>\n",
       "    </tr>\n",
       "  </tbody>\n",
       "</table>\n",
       "</div>"
      ],
      "text/plain": [
       "species       setosa  versicolor  virginica\n",
       "sepal_length   5.006       5.936      6.588"
      ]
     },
     "execution_count": 18,
     "metadata": {},
     "output_type": "execute_result"
    }
   ],
   "source": [
    "pd.pivot_table(iris, values=\"sepal_length\", columns=[\"species\"], aggfunc = np.mean)"
   ]
  },
  {
   "cell_type": "markdown",
   "metadata": {},
   "source": [
    "### TRY FOR YOURSELF (UNGRADED EXERCISES)"
   ]
  },
  {
   "cell_type": "markdown",
   "metadata": {},
   "source": [
    "2) Use a pivot table to compute the following statistics on sepal_width and petal_width grouped by species:\n",
    "\n",
    "- median  \n",
    "- mean\n",
    "\n",
    "These can be computed together in a single call to `pivot_table()`."
   ]
  },
  {
   "cell_type": "code",
   "execution_count": 34,
   "metadata": {},
   "outputs": [
    {
     "data": {
      "text/html": [
       "<div>\n",
       "<style scoped>\n",
       "    .dataframe tbody tr th:only-of-type {\n",
       "        vertical-align: middle;\n",
       "    }\n",
       "\n",
       "    .dataframe tbody tr th {\n",
       "        vertical-align: top;\n",
       "    }\n",
       "\n",
       "    .dataframe thead th {\n",
       "        text-align: right;\n",
       "    }\n",
       "</style>\n",
       "<table border=\"1\" class=\"dataframe\">\n",
       "  <thead>\n",
       "    <tr style=\"text-align: right;\">\n",
       "      <th></th>\n",
       "      <th>petal_width</th>\n",
       "      <th>sepal_width</th>\n",
       "    </tr>\n",
       "    <tr>\n",
       "      <th>species</th>\n",
       "      <th></th>\n",
       "      <th></th>\n",
       "    </tr>\n",
       "  </thead>\n",
       "  <tbody>\n",
       "    <tr>\n",
       "      <th>setosa</th>\n",
       "      <td>0.2</td>\n",
       "      <td>3.4</td>\n",
       "    </tr>\n",
       "    <tr>\n",
       "      <th>versicolor</th>\n",
       "      <td>1.3</td>\n",
       "      <td>2.8</td>\n",
       "    </tr>\n",
       "    <tr>\n",
       "      <th>virginica</th>\n",
       "      <td>2.0</td>\n",
       "      <td>3.0</td>\n",
       "    </tr>\n",
       "  </tbody>\n",
       "</table>\n",
       "</div>"
      ],
      "text/plain": [
       "            petal_width  sepal_width\n",
       "species                             \n",
       "setosa              0.2          3.4\n",
       "versicolor          1.3          2.8\n",
       "virginica           2.0          3.0"
      ]
     },
     "execution_count": 34,
     "metadata": {},
     "output_type": "execute_result"
    }
   ],
   "source": [
    "pd.pivot_table(iris, values=['sepal_width', 'petal_width'], index = ['species'], aggfunc = np.median)"
   ]
  },
  {
   "cell_type": "code",
   "execution_count": 27,
   "metadata": {},
   "outputs": [
    {
     "data": {
      "text/html": [
       "<div>\n",
       "<style scoped>\n",
       "    .dataframe tbody tr th:only-of-type {\n",
       "        vertical-align: middle;\n",
       "    }\n",
       "\n",
       "    .dataframe tbody tr th {\n",
       "        vertical-align: top;\n",
       "    }\n",
       "\n",
       "    .dataframe thead th {\n",
       "        text-align: right;\n",
       "    }\n",
       "</style>\n",
       "<table border=\"1\" class=\"dataframe\">\n",
       "  <thead>\n",
       "    <tr style=\"text-align: right;\">\n",
       "      <th></th>\n",
       "      <th>species</th>\n",
       "      <th>setosa</th>\n",
       "      <th>versicolor</th>\n",
       "      <th>virginica</th>\n",
       "    </tr>\n",
       "  </thead>\n",
       "  <tbody>\n",
       "    <tr>\n",
       "      <th rowspan=\"2\" valign=\"top\">petal_width</th>\n",
       "      <th>mean</th>\n",
       "      <td>0.246</td>\n",
       "      <td>1.326</td>\n",
       "      <td>2.026</td>\n",
       "    </tr>\n",
       "    <tr>\n",
       "      <th>median</th>\n",
       "      <td>0.200</td>\n",
       "      <td>1.300</td>\n",
       "      <td>2.000</td>\n",
       "    </tr>\n",
       "    <tr>\n",
       "      <th rowspan=\"2\" valign=\"top\">sepal_width</th>\n",
       "      <th>mean</th>\n",
       "      <td>3.428</td>\n",
       "      <td>2.770</td>\n",
       "      <td>2.974</td>\n",
       "    </tr>\n",
       "    <tr>\n",
       "      <th>median</th>\n",
       "      <td>3.400</td>\n",
       "      <td>2.800</td>\n",
       "      <td>3.000</td>\n",
       "    </tr>\n",
       "  </tbody>\n",
       "</table>\n",
       "</div>"
      ],
      "text/plain": [
       "species             setosa  versicolor  virginica\n",
       "petal_width mean     0.246       1.326      2.026\n",
       "            median   0.200       1.300      2.000\n",
       "sepal_width mean     3.428       2.770      2.974\n",
       "            median   3.400       2.800      3.000"
      ]
     },
     "execution_count": 27,
     "metadata": {},
     "output_type": "execute_result"
    }
   ],
   "source": [
    "pd.pivot_table(iris, values=[\"sepal_width\",\"petal_width\"], columns=[\"species\"], aggfunc = {np.mean, np.median})"
   ]
  },
  {
   "cell_type": "markdown",
   "metadata": {},
   "source": [
    "## III. Merging/Joining DataFrames\n",
    "\n",
    "\n",
    "### `concat()`  \n",
    "\n",
    "Concatenate pandas objects along an axis\n",
    "\n",
    "[Details](https://pandas.pydata.org/pandas-docs/stable/reference/api/pandas.concat.html)"
   ]
  },
  {
   "cell_type": "markdown",
   "metadata": {},
   "source": [
    "Create two dfs and vertically stack them"
   ]
  },
  {
   "cell_type": "code",
   "execution_count": 39,
   "metadata": {},
   "outputs": [
    {
     "name": "stdout",
     "output_type": "stream",
     "text": [
      "          0         1         2         3\n",
      "0  1.114823 -0.268490 -0.131740 -0.190522\n",
      "1  0.177049 -0.533693  1.051635  0.101682\n",
      "2 -1.898466 -0.871893 -0.368788 -2.017767\n",
      "---------------------------------------------\n",
      "          0         1         2         3\n",
      "0  1.530082 -0.890031 -0.380337 -2.105517\n",
      "1  0.825350 -0.699402  0.545847 -1.529941\n",
      "2 -2.059981 -0.269298  1.108089 -1.478096\n",
      "---------------------------------------------\n",
      "          0         1         2         3\n",
      "0  1.114823 -0.268490 -0.131740 -0.190522\n",
      "1  0.177049 -0.533693  1.051635  0.101682\n",
      "2 -1.898466 -0.871893 -0.368788 -2.017767\n",
      "0  1.530082 -0.890031 -0.380337 -2.105517\n",
      "1  0.825350 -0.699402  0.545847 -1.529941\n",
      "2 -2.059981 -0.269298  1.108089 -1.478096\n"
     ]
    }
   ],
   "source": [
    "df1 = pd.DataFrame(np.random.randn(3, 4))\n",
    "df2 = pd.DataFrame(np.random.randn(3, 4))\n",
    "\n",
    "print(df1)\n",
    "print('-'*45)\n",
    "print(df2)\n",
    "\n",
    "df3 = pd.concat([df1, df2], axis=0)\n",
    "\n",
    "print('-'*45)\n",
    "print(df3)"
   ]
  },
  {
   "cell_type": "markdown",
   "metadata": {},
   "source": [
    "### `merge()`\n",
    "\n",
    "SQL-style joining of tables (DataFrames)\n",
    "\n",
    "Important parameters include:\n",
    "\n",
    "- `how` : type of merge {'left', 'right', 'outer', 'inner', 'cross'}, default ‘inner’\n",
    "- `on`  : names to join on\n",
    "        \n",
    "[Details](https://pandas.pydata.org/pandas-docs/stable/reference/api/pandas.DataFrame.merge.html)"
   ]
  },
  {
   "cell_type": "markdown",
   "metadata": {},
   "source": [
    "Create two tables, `left` and `right`. Then right join them on `key`.  \n",
    "Right join means include all records from table on right.  \n",
    "The `key` is used for matching up the records."
   ]
  },
  {
   "cell_type": "code",
   "execution_count": 47,
   "metadata": {
    "jupyter": {
     "source_hidden": true
    }
   },
   "outputs": [
    {
     "name": "stdout",
     "output_type": "stream",
     "text": [
      "---left\n",
      "     key  lval\n",
      "0  jamie    15\n",
      "1   bill    22\n",
      "\n",
      "---right\n",
      "     key  rval\n",
      "0  jamie     4\n",
      "1   bill     5\n",
      "2  asher     8\n",
      "\n",
      "---joined\n",
      "     key  lval  rval\n",
      "0  jamie    15     4\n",
      "1   bill    22     5\n"
     ]
    }
   ],
   "source": [
    "left = pd.DataFrame({\"key\": [\"jamie\", \"bill\"], \"lval\": [15, 22]})\n",
    "right = pd.DataFrame({\"key\": [\"jamie\", \"bill\", \"asher\"], \"rval\": [4, 5, 8]})\n",
    "\n",
    "joined = pd.merge(left, right, on=\"key\", how=\"left\")\n",
    "\n",
    "print('---left')\n",
    "print(left)\n",
    "print('\\n---right')\n",
    "print(right)\n",
    "print('\\n---joined')\n",
    "print(joined)"
   ]
  },
  {
   "cell_type": "markdown",
   "metadata": {},
   "source": [
    "Notice the NaN inserted into the record with key=asher, since the left table didn't contain the key."
   ]
  },
  {
   "cell_type": "markdown",
   "metadata": {},
   "source": [
    "**Matching column names**  \n",
    "In this next example, the value columns have the same name: *val*.  Notice what happens to the column names."
   ]
  },
  {
   "cell_type": "code",
   "execution_count": null,
   "metadata": {},
   "outputs": [],
   "source": [
    "left = pd.DataFrame({\"key\": [\"jamie\", \"bill\"], \"val\": [15, 22]})\n",
    "right = pd.DataFrame({\"key\": [\"jamie\", \"bill\", \"asher\"], \"val\": [4, 5, 8]})\n",
    "\n",
    "joined = pd.merge(left, right, on=\"key\", how=\"right\")\n",
    "\n",
    "print('---left')\n",
    "print(left)\n",
    "print('\\n---right')\n",
    "print(right)\n",
    "print('\\n---joined')\n",
    "print(joined)"
   ]
  },
  {
   "cell_type": "markdown",
   "metadata": {},
   "source": [
    "### TRY FOR YOURSELF (UNGRADED EXERCISES)"
   ]
  },
  {
   "cell_type": "markdown",
   "metadata": {},
   "source": [
    "3) Redo the join exercise above, using an inner join instead of a right join.  \n",
    "Make sure the results make sense."
   ]
  },
  {
   "cell_type": "code",
   "execution_count": null,
   "metadata": {},
   "outputs": [],
   "source": []
  },
  {
   "cell_type": "code",
   "execution_count": 48,
   "metadata": {
    "jupyter": {
     "source_hidden": true
    }
   },
   "outputs": [
    {
     "name": "stdout",
     "output_type": "stream",
     "text": [
      "---left\n",
      "     key  lval\n",
      "0  jamie    15\n",
      "1   bill    22\n",
      "\n",
      "---right\n",
      "     key  rval\n",
      "0  jamie     4\n",
      "1   bill     5\n",
      "2  asher     8\n",
      "\n",
      "---joined\n",
      "     key  lval  rval\n",
      "0  jamie    15     4\n",
      "1   bill    22     5\n"
     ]
    }
   ],
   "source": [
    "left = pd.DataFrame({\"key\": [\"jamie\", \"bill\"], \"lval\": [15, 22]})\n",
    "right = pd.DataFrame({\"key\": [\"jamie\", \"bill\", \"asher\"], \"rval\": [4, 5, 8]})\n",
    "\n",
    "joined = pd.merge(left, right, on=\"key\", how=\"inner\")\n",
    "\n",
    "print('---left')\n",
    "print(left)\n",
    "print('\\n---right')\n",
    "print(right)\n",
    "print('\\n---joined')\n",
    "print(joined)"
   ]
  },
  {
   "cell_type": "markdown",
   "metadata": {},
   "source": [
    "add solution and fold to hide"
   ]
  },
  {
   "cell_type": "markdown",
   "metadata": {},
   "source": [
    "## IV. Reshape\n",
    "\n",
    "Changes the object's shape\n",
    "\n",
    "We illustrate creating pandas Series, extracting array of length 6, and reshaping to 3x2 array."
   ]
  },
  {
   "cell_type": "code",
   "execution_count": 49,
   "metadata": {},
   "outputs": [
    {
     "name": "stdout",
     "output_type": "stream",
     "text": [
      "orig data: [1 1 2 3 5 8]\n",
      "orig type: <class 'numpy.ndarray'>\n",
      "orig shape: (6,)\n",
      "\n",
      " reshaped vals:\n",
      "[[1 1]\n",
      " [2 3]\n",
      " [5 8]]\n",
      "\n",
      " new type: <class 'numpy.ndarray'>\n",
      "new shape: (3, 2)\n"
     ]
    }
   ],
   "source": [
    "# create a series \n",
    "ser = pd.Series([1, 1, 2, 3, 5, 8]) \n",
    "\n",
    "# extract values \n",
    "vals = ser.values \n",
    "\n",
    "print('orig data:', vals)\n",
    "print('orig type:', type(vals))\n",
    "print('orig shape:', vals.shape)\n",
    "\n",
    "# reshaping series\n",
    "reshaped_vals = vals.reshape((3, 2)) \n",
    "\n",
    "print('\\n reshaped vals:')\n",
    "print(reshaped_vals)\n",
    "print('\\n new type:', type(reshaped_vals))\n",
    "print('new shape:', reshaped_vals.shape)\n"
   ]
  },
  {
   "cell_type": "markdown",
   "metadata": {},
   "source": [
    "Including -1 as one of the dimensions tells numpy: infer this dimension from the data and the other dimensions."
   ]
  },
  {
   "cell_type": "markdown",
   "metadata": {},
   "source": [
    "Example: enforce 3 columns:"
   ]
  },
  {
   "cell_type": "code",
   "execution_count": 50,
   "metadata": {},
   "outputs": [
    {
     "data": {
      "text/plain": [
       "array([[1, 1, 2],\n",
       "       [3, 5, 8]], dtype=int64)"
      ]
     },
     "execution_count": 50,
     "metadata": {},
     "output_type": "execute_result"
    }
   ],
   "source": [
    "vals.reshape(-1,3)"
   ]
  },
  {
   "cell_type": "markdown",
   "metadata": {},
   "source": [
    "Enforce 3 rows:"
   ]
  },
  {
   "cell_type": "code",
   "execution_count": 51,
   "metadata": {},
   "outputs": [
    {
     "data": {
      "text/plain": [
       "array([[1, 1],\n",
       "       [2, 3],\n",
       "       [5, 8]], dtype=int64)"
      ]
     },
     "execution_count": 51,
     "metadata": {},
     "output_type": "execute_result"
    }
   ],
   "source": [
    "vals.reshape(3,-1)"
   ]
  },
  {
   "cell_type": "markdown",
   "metadata": {},
   "source": [
    "**IMPORTANT NOTE**  \n",
    "\n",
    "Notice the shape of original array: `(6,)`  \n",
    "This is a vector with one dimension, and is different from two-dimensional `(6,1)` array"
   ]
  },
  {
   "cell_type": "markdown",
   "metadata": {},
   "source": [
    "### TRY FOR YOURSELF (UNGRADED EXERCISES)"
   ]
  },
  {
   "cell_type": "markdown",
   "metadata": {},
   "source": [
    "4) Recreate the series from above with data [1, 1, 2, 3, 5, 8]  \n",
    "Extract the data from the series and reshape to 2x3.  \n",
    "Print both the reshaped data, and the dimensions."
   ]
  },
  {
   "cell_type": "code",
   "execution_count": 56,
   "metadata": {},
   "outputs": [
    {
     "name": "stdout",
     "output_type": "stream",
     "text": [
      "(6,)\n",
      "[[1 1 2]\n",
      " [3 5 8]] (2, 3)\n"
     ]
    }
   ],
   "source": [
    "data = pd.Series([1, 1, 2, 3, 5, 8]).values\n",
    "print(data.shape)\n",
    "data = data.reshape(2, 3)\n",
    "print(data, data.shape)\n"
   ]
  },
  {
   "cell_type": "code",
   "execution_count": null,
   "metadata": {
    "jupyter": {
     "source_hidden": true
    }
   },
   "outputs": [],
   "source": [
    "ser = pd.Series([1, 1, 2, 3, 5, 8])\n",
    "vals= ser.values\n",
    "resh = vals.reshape(2,3)\n",
    "print(resh)\n",
    "print('new shape:', resh.shape)"
   ]
  },
  {
   "cell_type": "markdown",
   "metadata": {},
   "source": [
    "## V. Categoricals\n",
    "\n",
    "Categorical data takes discrete values where computation on the values does not make sense.  \n",
    "Zip code is a typical example.\n",
    "\n",
    "To include categoricals in models, they must be converted to numeric.  \n",
    "\n",
    "### `get_dummies()`\n",
    "Dummy code categorical data\n",
    "\n",
    "Important parameters: \n",
    "\n",
    "- `prefix`    : append prefix to column names (a good idea for later use)\n",
    "- `drop_first`: remove first level, as only `k-1` variables needed to represent `k` levels\n",
    "\n",
    "[Details](https://pandas.pydata.org/pandas-docs/stable/reference/api/pandas.get_dummies.html)"
   ]
  },
  {
   "cell_type": "code",
   "execution_count": 57,
   "metadata": {},
   "outputs": [
    {
     "name": "stdout",
     "output_type": "stream",
     "text": [
      "--categorical data\n",
      "       breed\n",
      "0    persian\n",
      "1    persian\n",
      "2    siamese\n",
      "3  himalayan\n",
      "4    burmese\n",
      "\n",
      "\n",
      "--dummified categorical data\n",
      "   breed_himalayan  breed_persian  breed_siamese\n",
      "0                0              1              0\n",
      "1                0              1              0\n",
      "2                0              0              1\n",
      "3                1              0              0\n",
      "4                0              0              0\n"
     ]
    }
   ],
   "source": [
    "cats = pd.DataFrame({'breed':['persian','persian','siamese','himalayan','burmese']})\n",
    "\n",
    "print('--categorical data')\n",
    "print(cats)\n",
    "\n",
    "cats = pd.get_dummies(cats.breed, drop_first=True, prefix='breed')\n",
    "\n",
    "print('\\n')\n",
    "print('--dummified categorical data')\n",
    "print(cats)"
   ]
  },
  {
   "cell_type": "markdown",
   "metadata": {},
   "source": [
    "Notice `burmese` was dropped (first level by alphabet)"
   ]
  },
  {
   "cell_type": "markdown",
   "metadata": {},
   "source": [
    "### TRY FOR YOURSELF (UNGRADED EXERCISES)"
   ]
  },
  {
   "cell_type": "markdown",
   "metadata": {},
   "source": [
    "5) The dataframe below contains two categoricals. Dummify each of them, giving them a prefix and dropping the first level from each. \n",
    "\n",
    "Print the new dataframe to insure correctness.\n",
    "\n",
    "Hint: You might want to dummify each column into separate new dataframes, and then merge them together by using:\n",
    "\n",
    "`pd.concat([df1, df2], axis=1)`"
   ]
  },
  {
   "cell_type": "code",
   "execution_count": null,
   "metadata": {},
   "outputs": [],
   "source": [
    "cats2 = pd.DataFrame({'breed':['persian','persian','siamese','himalayan','burmese'], \n",
    "                      'color':['calico','white','seal point','cream','sable']})\n",
    "cats20 = cats2.get_dummies(cats.breed, drop_first=True, prefix='breed')\n",
    "cats21 = cats2.get_dummies(cats.color, drop_first=True, prefix='color')"
   ]
  },
  {
   "cell_type": "code",
   "execution_count": null,
   "metadata": {
    "jupyter": {
     "source_hidden": true
    },
    "tags": []
   },
   "outputs": [],
   "source": [
    "cats2 = pd.DataFrame({'breed':['persian','persian','siamese','himalayan','burmese'], \n",
    "                      'color':['calico','white','seal point','cream','sable']})\n",
    "\n",
    "breed = pd.get_dummies(cats2.breed, drop_first=True, prefix='breed_')\n",
    "color = pd.get_dummies(cats2.color, drop_first=True, prefix='color_')\n",
    "\n",
    "cats3 = pd.concat([breed, color], axis=1)\n",
    "cats3"
   ]
  },
  {
   "cell_type": "markdown",
   "metadata": {},
   "source": [
    "---"
   ]
  }
 ],
 "metadata": {
  "anaconda-cloud": {},
  "kernelspec": {
   "display_name": "Python 3 (ipykernel)",
   "language": "python",
   "name": "python3"
  },
  "language_info": {
   "codemirror_mode": {
    "name": "ipython",
    "version": 3
   },
   "file_extension": ".py",
   "mimetype": "text/x-python",
   "name": "python",
   "nbconvert_exporter": "python",
   "pygments_lexer": "ipython3",
   "version": "3.9.7"
  }
 },
 "nbformat": 4,
 "nbformat_minor": 4
}
